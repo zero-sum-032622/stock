{
 "cells": [
  {
   "cell_type": "code",
   "execution_count": 1,
   "metadata": {},
   "outputs": [],
   "source": [
    "import pandas as pd\n",
    "from minepy import MINE\n",
    "\n",
    "def mic(d: pd.DataFrame, x: str, y: str) -> float:\n",
    "    mine = MINE(alpha=0.6, c=15, est='mic_approx')\n",
    "    mine.compute_score(d[x], d[y])\n",
    "    return mine.mic()\n",
    "\n",
    "df = pd.read_csv('../screener/output/all.csv', index_col=0)\n",
    "df['r_high'] = df['High'] / df['Open']\n",
    "df['r_low'] = df['Low'] / df['Open']\n",
    "df['r_close'] = df['Close'] / df['Open']\n",
    "\n",
    "target = [ \\\n",
    "    'Volume', \\\n",
    "    'rsi', \\\n",
    "    'macd', \\\n",
    "    'macdsig', \\\n",
    "    'macdhis', \\\n",
    "    'sma05_gra', \\\n",
    "    'sma20_gra', \\\n",
    "    'sma50_gra', \\\n",
    "    'Open_gra', \\\n",
    "    'Close_gra', \\\n",
    "    'High_gra', \\\n",
    "    'Low_gra', \\\n",
    "    'd_sma05_sma20', \\\n",
    "    'd_sma20_sma50', \\\n",
    "]\n",
    "print(mic(df, 'expected', 'rsi'))\n",
    "# result = [{t, mic(df, 'expected', t)} for t in target[:1]]\n",
    "# print(result)\n",
    "\n"
   ]
  }
 ],
 "metadata": {
  "kernelspec": {
   "display_name": "base",
   "language": "python",
   "name": "python3"
  },
  "language_info": {
   "codemirror_mode": {
    "name": "ipython",
    "version": 3
   },
   "file_extension": ".py",
   "mimetype": "text/x-python",
   "name": "python",
   "nbconvert_exporter": "python",
   "pygments_lexer": "ipython3",
   "version": "3.11.7"
  }
 },
 "nbformat": 4,
 "nbformat_minor": 2
}
